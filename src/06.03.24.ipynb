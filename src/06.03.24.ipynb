{
 "cells": [
  {
   "cell_type": "code",
   "execution_count": null,
   "metadata": {},
   "outputs": [],
   "source": [
    "ls -l # show files all\n",
    "ls -al # all files \n",
    "cat .env # to show the content of th e.env file\n",
    "\n",
    "# Recap calss\n",
    "\n",
    "# curl -X GET https://api.carbonsintensity.org.uk/intensity\\\n",
    "\n",
    "- Public API https://github.com/public-apis/public-apis\n",
    "\n",
    "https://carbon-intensity.github.io/api-definitions/#carbon-intensity-api-v2-0-0\n",
    "\n",
    "import requests #(remember to install requests in the terminal with pip install requests)\n",
    "\n",
    "response = requests.get('https//api.carbonintensity,org,uk etc')\n",
    "response\n",
    "response.status_code # to see if it gives back an error or not (200)\n",
    "data = response.json()\n",
    "data\n",
    "data = data['data'] #get just the data\n",
    "\n",
    "# how to get data from February (change the from and the to)\n",
    "if day < 10:\n",
    "    add_zero = '0'\n",
    "\n",
    "for day in range(1, 30):\n",
    "    print(\"Get statistics for day\", day) # where does the day come from?\n",
    "    # make request to get the data\n",
    "    fromDate = '2024-02' + add_zero + str(day) + 'T00:00'\n",
    "    toDate = '2024-02' + add_zero + str(day) + 'T23:59'\n",
    "    api_endpoint = 'hettps://api.carbonintensity.org.uk' + fromDate + \"/\" + toDate\n",
    "    response = requests.get('https://api.carbonintensity.org.u/stats' + fromDate + \"/\" + toDate)\n",
    "    print(response.status_code)# if there is a 400 there is a mistake in the format, in the requests.get\n",
    "    print(api_endpoint)\n",
    "\n",
    "response_data[day]\n",
    "\n",
    "len(responses_data[15])"
   ]
  },
  {
   "cell_type": "code",
   "execution_count": null,
   "metadata": {},
   "outputs": [],
   "source": [
    "# follow instructions in instr.md\n",
    "in createdb -h etc username: substitute with gitpod recap and do localhost after -h\n",
    "\n",
    "psql recap\n",
    "\n",
    "psql -h localhost -U gitpod recap\n",
    "\n",
    "first, create tables with pandas:\n",
    "    \n",
    "# 1. Dowload data from a API\n",
    "    # as seen before\n",
    "# 2. Create a database to store the data\n",
    "    # Follow INSTRUCTIONs"
   ]
  },
  {
   "cell_type": "markdown",
   "metadata": {},
   "source": [
    "Explore from 06.03.2024"
   ]
  },
  {
   "cell_type": "markdown",
   "metadata": {},
   "source": [
    "1. Download data from the API"
   ]
  },
  {
   "cell_type": "code",
   "execution_count": 3,
   "metadata": {},
   "outputs": [
    {
     "data": {
      "text/plain": [
       "<Response [200]>"
      ]
     },
     "execution_count": 3,
     "metadata": {},
     "output_type": "execute_result"
    }
   ],
   "source": [
    "import requests\n",
    "\n",
    "data = requests.get('https://api.carbonintensity.org.uk/intensity')\n",
    "data"
   ]
  },
  {
   "cell_type": "code",
   "execution_count": 4,
   "metadata": {},
   "outputs": [
    {
     "data": {
      "text/plain": [
       "b'{ \\r\\n  \"data\":[{ \\r\\n    \"from\": \"2024-03-06T19:00Z\",\\r\\n    \"to\": \"2024-03-06T19:30Z\",\\r\\n    \"intensity\": {\\r\\n      \"forecast\": 241,\\r\\n      \"actual\": 248,\\r\\n      \"index\": \"high\"\\r\\n    }\\r\\n  }]\\r\\n}'"
      ]
     },
     "execution_count": 4,
     "metadata": {},
     "output_type": "execute_result"
    }
   ],
   "source": [
    "data.content"
   ]
  },
  {
   "cell_type": "code",
   "execution_count": 6,
   "metadata": {},
   "outputs": [
    {
     "data": {
      "text/plain": [
       "{'data': [{'from': '2024-03-06T19:00Z',\n",
       "   'to': '2024-03-06T19:30Z',\n",
       "   'intensity': {'forecast': 241, 'actual': 248, 'index': 'high'}}]}"
      ]
     },
     "execution_count": 6,
     "metadata": {},
     "output_type": "execute_result"
    }
   ],
   "source": [
    "# JSON\n",
    "\n",
    "response = data.json()\n",
    "response"
   ]
  },
  {
   "cell_type": "code",
   "execution_count": 7,
   "metadata": {},
   "outputs": [
    {
     "data": {
      "text/plain": [
       "[{'from': '2024-03-06T19:00Z',\n",
       "  'to': '2024-03-06T19:30Z',\n",
       "  'intensity': {'forecast': 241, 'actual': 248, 'index': 'high'}}]"
      ]
     },
     "execution_count": 7,
     "metadata": {},
     "output_type": "execute_result"
    }
   ],
   "source": [
    "response['data']"
   ]
  },
  {
   "cell_type": "code",
   "execution_count": 8,
   "metadata": {},
   "outputs": [
    {
     "data": {
      "text/plain": [
       "{'from': '2024-03-06T19:00Z',\n",
       " 'to': '2024-03-06T19:30Z',\n",
       " 'intensity': {'forecast': 241, 'actual': 248, 'index': 'high'}}"
      ]
     },
     "execution_count": 8,
     "metadata": {},
     "output_type": "execute_result"
    }
   ],
   "source": [
    "response['data'][0]"
   ]
  },
  {
   "cell_type": "code",
   "execution_count": 10,
   "metadata": {},
   "outputs": [
    {
     "data": {
      "text/plain": [
       "list"
      ]
     },
     "execution_count": 10,
     "metadata": {},
     "output_type": "execute_result"
    }
   ],
   "source": [
    "type(response['data']) # it is a list with dictionarz entries (see below)"
   ]
  },
  {
   "cell_type": "code",
   "execution_count": 11,
   "metadata": {},
   "outputs": [
    {
     "data": {
      "text/plain": [
       "dict"
      ]
     },
     "execution_count": 11,
     "metadata": {},
     "output_type": "execute_result"
    }
   ],
   "source": [
    "type(response['data'][0])"
   ]
  },
  {
   "cell_type": "code",
   "execution_count": null,
   "metadata": {},
   "outputs": [],
   "source": []
  }
 ],
 "metadata": {
  "kernelspec": {
   "display_name": "Python 3",
   "language": "python",
   "name": "python3"
  },
  "language_info": {
   "codemirror_mode": {
    "name": "ipython",
    "version": 3
   },
   "file_extension": ".py",
   "mimetype": "text/x-python",
   "name": "python",
   "nbconvert_exporter": "python",
   "pygments_lexer": "ipython3",
   "version": "3.10.12"
  }
 },
 "nbformat": 4,
 "nbformat_minor": 2
}
